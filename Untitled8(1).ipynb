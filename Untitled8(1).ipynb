{
 "cells": [
  {
   "cell_type": "code",
   "execution_count": 23,
   "id": "c6ad149c-3969-4ee1-903a-cbdcc3f37239",
   "metadata": {},
   "outputs": [],
   "source": [
    "s=\"this is My First Python programming class and I am learning python string and its function\""
   ]
  },
  {
   "cell_type": "code",
   "execution_count": 2,
   "id": "219e76a4-2d88-40f0-bc96-90cafed359b7",
   "metadata": {},
   "outputs": [],
   "source": [
    "#1.Try to extract data from index one to index 300 wiith a jump of 3"
   ]
  },
  {
   "cell_type": "code",
   "execution_count": 16,
   "id": "3f925350-007b-449f-92fd-f671a1c55399",
   "metadata": {},
   "outputs": [
    {
     "data": {
      "text/plain": [
       "'h   r tnrrmglsnImengyosi dtfco'"
      ]
     },
     "execution_count": 16,
     "metadata": {},
     "output_type": "execute_result"
    }
   ],
   "source": [
    "s[1:300:3]"
   ]
  },
  {
   "cell_type": "code",
   "execution_count": 4,
   "id": "f85b685f-07a5-489f-a73a-f49fe8cc270d",
   "metadata": {},
   "outputs": [],
   "source": [
    "s1=\"We are learning problem solving using computation\""
   ]
  },
  {
   "cell_type": "code",
   "execution_count": 5,
   "id": "37a90321-7d80-458a-bb45-40571e981156",
   "metadata": {},
   "outputs": [
    {
     "data": {
      "text/plain": [
       "'eaela'"
      ]
     },
     "execution_count": 5,
     "metadata": {},
     "output_type": "execute_result"
    }
   ],
   "source": [
    "# Exract data from 1 to 10 with a jump of 2.\n",
    "s1[1:11:2]"
   ]
  },
  {
   "cell_type": "code",
   "execution_count": 6,
   "id": "923a9e01-c7e2-45f6-8bd1-001367245549",
   "metadata": {},
   "outputs": [],
   "source": [
    "#2.Try to reverse a string without using reverse function|"
   ]
  },
  {
   "cell_type": "code",
   "execution_count": 17,
   "id": "a8fb6f6a-2a83-45c0-b6eb-35b2fb3c9518",
   "metadata": {},
   "outputs": [
    {
     "data": {
      "text/plain": [
       "'noitcnuf sti dna gnirts nothyp gninrael ma I dna ssalc gnimmargorp nohtyP tsriF yM si siht'"
      ]
     },
     "execution_count": 17,
     "metadata": {},
     "output_type": "execute_result"
    }
   ],
   "source": [
    "s[::-1]"
   ]
  },
  {
   "cell_type": "code",
   "execution_count": 8,
   "id": "2474ea99-0d94-4266-8615-3d63b94982f0",
   "metadata": {},
   "outputs": [],
   "source": [
    "#3.Try to split a string after conversion of entire string in uppercase."
   ]
  },
  {
   "cell_type": "code",
   "execution_count": 29,
   "id": "91640870-bf2f-409e-a1f5-e7e84f70a288",
   "metadata": {},
   "outputs": [
    {
     "data": {
      "text/plain": [
       "['THIS',\n",
       " 'IS',\n",
       " 'MY',\n",
       " 'FIRST',\n",
       " 'PYTHON',\n",
       " 'PROGRAMMING',\n",
       " 'CLASS',\n",
       " 'AND',\n",
       " 'I',\n",
       " 'AM',\n",
       " 'LEARNING',\n",
       " 'PYTHON',\n",
       " 'STRING',\n",
       " 'AND',\n",
       " 'ITS',\n",
       " 'FUNCTION']"
      ]
     },
     "execution_count": 29,
     "metadata": {},
     "output_type": "execute_result"
    }
   ],
   "source": [
    "#Method 1\n",
    "s1=s.upper()\n",
    "s1.split()"
   ]
  },
  {
   "cell_type": "code",
   "execution_count": 28,
   "id": "83dce3e4-3c60-4315-8305-5852c9c563d1",
   "metadata": {},
   "outputs": [
    {
     "data": {
      "text/plain": [
       "['THIS',\n",
       " 'IS',\n",
       " 'MY',\n",
       " 'FIRST',\n",
       " 'PYTHON',\n",
       " 'PROGRAMMING',\n",
       " 'CLASS',\n",
       " 'AND',\n",
       " 'I',\n",
       " 'AM',\n",
       " 'LEARNING',\n",
       " 'PYTHON',\n",
       " 'STRING',\n",
       " 'AND',\n",
       " 'ITS',\n",
       " 'FUNCTION']"
      ]
     },
     "execution_count": 28,
     "metadata": {},
     "output_type": "execute_result"
    }
   ],
   "source": [
    "#Method 2\n",
    "s.upper().split()"
   ]
  },
  {
   "cell_type": "code",
   "execution_count": 11,
   "id": "04b8f5c6-53fc-4d1a-b414-9d6dbaabc2eb",
   "metadata": {},
   "outputs": [],
   "source": [
    "#4.Try to convert the whole string into lower case"
   ]
  },
  {
   "cell_type": "code",
   "execution_count": 24,
   "id": "cc614bb5-8a14-4e5f-acb2-6043006a4d2c",
   "metadata": {},
   "outputs": [
    {
     "data": {
      "text/plain": [
       "'this is my first python programming class and i am learning python string and its function'"
      ]
     },
     "execution_count": 24,
     "metadata": {},
     "output_type": "execute_result"
    }
   ],
   "source": [
    "s.lower()"
   ]
  },
  {
   "cell_type": "code",
   "execution_count": 27,
   "id": "07abcf25-b2a0-4963-bf90-fc9d5ed8b41d",
   "metadata": {},
   "outputs": [
    {
     "data": {
      "text/plain": [
       "'This is my first python programming class and i am learning python string and its function'"
      ]
     },
     "execution_count": 27,
     "metadata": {},
     "output_type": "execute_result"
    }
   ],
   "source": [
    "#5.Try to capitalize the whole string\n",
    "s.capitalize()"
   ]
  },
  {
   "cell_type": "code",
   "execution_count": 15,
   "id": "a8c0c4d3-f0f9-4ab0-947a-7d030fb176d3",
   "metadata": {},
   "outputs": [],
   "source": [
    "#6.Write a difference between isalnum() and isalpha()"
   ]
  },
  {
   "cell_type": "code",
   "execution_count": 30,
   "id": "384464f3-4f1d-4a10-81d4-f2f40064c824",
   "metadata": {},
   "outputs": [],
   "source": [
    "# isalnum() - This function checks that if all the characters in the string are alphanumeric if yes it prints True else it prints False.\n",
    "# isalpha() - This function checks that if all the characters in the string are alphabets if yes it prints True else it prints False."
   ]
  },
  {
   "cell_type": "code",
   "execution_count": 31,
   "id": "6e50c914-02ec-4a00-9c96-cc820c9a3d7f",
   "metadata": {},
   "outputs": [],
   "source": [
    "#7. Try to give an example of expand tab"
   ]
  },
  {
   "cell_type": "code",
   "execution_count": 34,
   "id": "b168e721-7211-48fb-8cd1-9f305fefea84",
   "metadata": {},
   "outputs": [],
   "source": [
    "exp=\"Hii\\tthis\\tis\\tfor\\tyou\\tanuja!\""
   ]
  },
  {
   "cell_type": "code",
   "execution_count": 35,
   "id": "d139102a-532a-4aef-9bd9-1fe5fb7a2463",
   "metadata": {},
   "outputs": [
    {
     "data": {
      "text/plain": [
       "'Hii     this    is      for     you     anuja!'"
      ]
     },
     "execution_count": 35,
     "metadata": {},
     "output_type": "execute_result"
    }
   ],
   "source": [
    "exp.expandtabs()"
   ]
  },
  {
   "cell_type": "code",
   "execution_count": 38,
   "id": "a835adb3-57e1-4f19-afa0-b3976b8a8f10",
   "metadata": {},
   "outputs": [
    {
     "data": {
      "text/plain": [
       "'Hii            this           is             for            you            anuja!'"
      ]
     },
     "execution_count": 38,
     "metadata": {},
     "output_type": "execute_result"
    }
   ],
   "source": [
    "exp.expandtabs(15)"
   ]
  },
  {
   "cell_type": "code",
   "execution_count": 39,
   "id": "6f15c57b-bfa2-4758-a4c2-81997a698dbb",
   "metadata": {},
   "outputs": [],
   "source": [
    "#8.Give an example of strip,istrip and rstrip"
   ]
  },
  {
   "cell_type": "code",
   "execution_count": 40,
   "id": "163667e6-8170-4c48-af58-bc84bd7435d1",
   "metadata": {},
   "outputs": [
    {
     "data": {
      "text/plain": [
       "'Hey!! Anuja'"
      ]
     },
     "execution_count": 40,
     "metadata": {},
     "output_type": "execute_result"
    }
   ],
   "source": [
    "#1 example of strip:\n",
    "a = \"@@@2@Hey!! Anuja@2@@@\"\n",
    "a.strip(\"@2\")"
   ]
  },
  {
   "cell_type": "code",
   "execution_count": 45,
   "id": "f9bdd7eb-e347-4999-b06f-4d3fb5e2e8b6",
   "metadata": {},
   "outputs": [
    {
     "data": {
      "text/plain": [
       "'Hey!! Anuja@2@@@'"
      ]
     },
     "execution_count": 45,
     "metadata": {},
     "output_type": "execute_result"
    }
   ],
   "source": [
    "#2 example of lstrip:\n",
    "a1 = \"@@@22@Hey!! Anuja@2@@@\"\n",
    "a1.lstrip(\"@2\")"
   ]
  },
  {
   "cell_type": "code",
   "execution_count": 46,
   "id": "677f9a85-1630-474c-a289-de47e08e3ab6",
   "metadata": {},
   "outputs": [
    {
     "data": {
      "text/plain": [
       "'@@@22@Hey!! Anuja'"
      ]
     },
     "execution_count": 46,
     "metadata": {},
     "output_type": "execute_result"
    }
   ],
   "source": [
    "#3 example of rstrip:\n",
    "a2 = \"@@@22@Hey!! Anuja@2@@@\"\n",
    "a2.rstrip(\"@2\")"
   ]
  },
  {
   "cell_type": "code",
   "execution_count": 50,
   "id": "14507905-5d1b-4f87-be9d-e9384839d95a",
   "metadata": {},
   "outputs": [
    {
     "data": {
      "text/plain": [
       "'Anuja'"
      ]
     },
     "execution_count": 50,
     "metadata": {},
     "output_type": "execute_result"
    }
   ],
   "source": [
    "#9.Replace a string character by another character by taking your own example\"your name\"\n",
    "name=\"Abhilasha\"\n",
    "name.replace(\"Abhilasha\",\"Anuja\")"
   ]
  },
  {
   "cell_type": "code",
   "execution_count": 51,
   "id": "efd1408e-9a66-4bfc-a5f7-55c0968e9c84",
   "metadata": {},
   "outputs": [
    {
     "data": {
      "text/plain": [
       "'Anulasha'"
      ]
     },
     "execution_count": 51,
     "metadata": {},
     "output_type": "execute_result"
    }
   ],
   "source": [
    "name.replace(\"Abhi\",\"Anu\")"
   ]
  },
  {
   "cell_type": "code",
   "execution_count": null,
   "id": "2c7086bb-5a7a-4775-bf91-cef6bd13c34c",
   "metadata": {},
   "outputs": [],
   "source": []
  }
 ],
 "metadata": {
  "kernelspec": {
   "display_name": "Python 3 (ipykernel)",
   "language": "python",
   "name": "python3"
  },
  "language_info": {
   "codemirror_mode": {
    "name": "ipython",
    "version": 3
   },
   "file_extension": ".py",
   "mimetype": "text/x-python",
   "name": "python",
   "nbconvert_exporter": "python",
   "pygments_lexer": "ipython3",
   "version": "3.12.4"
  }
 },
 "nbformat": 4,
 "nbformat_minor": 5
}
