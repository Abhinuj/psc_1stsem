{
 "cells": [
  {
   "cell_type": "code",
   "execution_count": 3,
   "id": "2345bc6b-8fe6-48e2-9aae-d481536253d5",
   "metadata": {},
   "outputs": [
    {
     "name": "stdout",
     "output_type": "stream",
     "text": [
      "25\n",
      "a\n"
     ]
    }
   ],
   "source": [
    "a = 25\n",
    "b = 67\n",
    "c = 45\n",
    "print(a)\n",
    "print(\"a\")"
   ]
  },
  {
   "cell_type": "code",
   "execution_count": 4,
   "id": "4726e63e-2fbb-4c34-8e3c-343e7d22028c",
   "metadata": {},
   "outputs": [
    {
     "name": "stdout",
     "output_type": "stream",
     "text": [
      "25 67 45\n"
     ]
    }
   ],
   "source": [
    "print(a,b,c)"
   ]
  },
  {
   "cell_type": "code",
   "execution_count": 5,
   "id": "e3e3bc06-ef01-4bbb-985f-d127c1ae7622",
   "metadata": {},
   "outputs": [
    {
     "name": "stdout",
     "output_type": "stream",
     "text": [
      "a,b,c,\n"
     ]
    }
   ],
   "source": [
    "print(\"a\"\",\"\"b\"\",\"\"c\"\",\")"
   ]
  },
  {
   "cell_type": "code",
   "execution_count": 6,
   "id": "a81c6385-6845-4523-8834-558acb22f59d",
   "metadata": {},
   "outputs": [
    {
     "name": "stdout",
     "output_type": "stream",
     "text": [
      "25,67,45,\n"
     ]
    }
   ],
   "source": [
    "print(\"25\"\",\"\"67\"\",\"\"45\"\",\")"
   ]
  },
  {
   "cell_type": "code",
   "execution_count": 10,
   "id": "03a09e44-03ee-489e-818f-424984e36f4b",
   "metadata": {},
   "outputs": [
    {
     "name": "stdout",
     "output_type": "stream",
     "text": [
      "25, 67, 45\n"
     ]
    }
   ],
   "source": [
    "print(25,67,45,sep=', ')"
   ]
  },
  {
   "cell_type": "code",
   "execution_count": 11,
   "id": "e1245039-9338-43ae-be2a-9d8c662542f5",
   "metadata": {},
   "outputs": [],
   "source": [
    "name=\"Abhilasha Nirmal\""
   ]
  },
  {
   "cell_type": "code",
   "execution_count": 12,
   "id": "66f184bc-0d88-40ab-8474-90c6656a0d5a",
   "metadata": {},
   "outputs": [
    {
     "data": {
      "text/plain": [
       "str"
      ]
     },
     "execution_count": 12,
     "metadata": {},
     "output_type": "execute_result"
    }
   ],
   "source": [
    "type(name)"
   ]
  },
  {
   "cell_type": "code",
   "execution_count": 13,
   "id": "2e3c3388-c940-4c76-903a-60226966f3ce",
   "metadata": {},
   "outputs": [],
   "source": [
    "name1 = 'Abhilsha Nirmal'"
   ]
  },
  {
   "cell_type": "code",
   "execution_count": 14,
   "id": "98e14d11-ae16-472c-9c70-eeb6d33ac874",
   "metadata": {},
   "outputs": [
    {
     "data": {
      "text/plain": [
       "str"
      ]
     },
     "execution_count": 14,
     "metadata": {},
     "output_type": "execute_result"
    }
   ],
   "source": [
    "type(name)"
   ]
  },
  {
   "cell_type": "code",
   "execution_count": 17,
   "id": "48e52eee-3346-4407-8936-9b4209f28469",
   "metadata": {},
   "outputs": [],
   "source": [
    "name2=\"\"\"Abhilasha Nirmal\"\"\""
   ]
  },
  {
   "cell_type": "code",
   "execution_count": 18,
   "id": "a98b12de-99eb-4744-a27b-214e897414fb",
   "metadata": {},
   "outputs": [
    {
     "data": {
      "text/plain": [
       "str"
      ]
     },
     "execution_count": 18,
     "metadata": {},
     "output_type": "execute_result"
    }
   ],
   "source": [
    "type(name2)"
   ]
  },
  {
   "cell_type": "code",
   "execution_count": 19,
   "id": "26024fc5-ca98-4ec8-a1e4-fe736bd67e55",
   "metadata": {},
   "outputs": [],
   "source": [
    "name3=\"\"\"\"\"Abhilasha Nirmal\"\"\"\"\""
   ]
  },
  {
   "cell_type": "code",
   "execution_count": 20,
   "id": "f6c57477-e3d2-4e20-a93d-e2020ddb64f8",
   "metadata": {},
   "outputs": [
    {
     "data": {
      "text/plain": [
       "str"
      ]
     },
     "execution_count": 20,
     "metadata": {},
     "output_type": "execute_result"
    }
   ],
   "source": [
    "type(name3)"
   ]
  },
  {
   "cell_type": "code",
   "execution_count": 21,
   "id": "4f3d6982-f639-4505-a393-cd7e9c1f011b",
   "metadata": {},
   "outputs": [],
   "source": [
    "name4 = '''''Abhilsha Nirmal'''''"
   ]
  },
  {
   "cell_type": "code",
   "execution_count": 22,
   "id": "ed2b5707-8a1b-4312-bc2b-44f793186d22",
   "metadata": {},
   "outputs": [
    {
     "data": {
      "text/plain": [
       "str"
      ]
     },
     "execution_count": 22,
     "metadata": {},
     "output_type": "execute_result"
    }
   ],
   "source": [
    "type(name4)"
   ]
  },
  {
   "cell_type": "code",
   "execution_count": 23,
   "id": "cd126437-541b-48f1-9b94-d3f3cd052a49",
   "metadata": {},
   "outputs": [],
   "source": [
    "# single quote in string is allowed.\n",
    "# double quote in string is allowed."
   ]
  },
  {
   "cell_type": "code",
   "execution_count": 24,
   "id": "61d6cc61-ed2e-47bc-9639-06cc01212478",
   "metadata": {},
   "outputs": [
    {
     "name": "stdout",
     "output_type": "stream",
     "text": [
      "Abhilasha\n",
      "Ajinkya\n"
     ]
    }
   ],
   "source": [
    "print(\"Abhilasha\")\n",
    "print(\"Ajinkya\")"
   ]
  },
  {
   "cell_type": "code",
   "execution_count": 29,
   "id": "615e76df-e247-4787-a3af-993b986e4153",
   "metadata": {},
   "outputs": [
    {
     "name": "stdout",
     "output_type": "stream",
     "text": [
      "Abhilasha\tAjinkya\tAbhilasha\n",
      "Abhilasha\n"
     ]
    }
   ],
   "source": [
    "print(\"Abhilasha\",end='\\t')\n",
    "print(\"Ajinkya\",end='\\t')\n",
    "print(\"Abhilasha\")\n",
    "print(\"Abhilasha\")"
   ]
  },
  {
   "cell_type": "code",
   "execution_count": null,
   "id": "19f8810d-6f58-4e27-8169-9a7909b222b5",
   "metadata": {},
   "outputs": [],
   "source": []
  }
 ],
 "metadata": {
  "kernelspec": {
   "display_name": "Python 3 (ipykernel)",
   "language": "python",
   "name": "python3"
  },
  "language_info": {
   "codemirror_mode": {
    "name": "ipython",
    "version": 3
   },
   "file_extension": ".py",
   "mimetype": "text/x-python",
   "name": "python",
   "nbconvert_exporter": "python",
   "pygments_lexer": "ipython3",
   "version": "3.12.4"
  }
 },
 "nbformat": 4,
 "nbformat_minor": 5
}
