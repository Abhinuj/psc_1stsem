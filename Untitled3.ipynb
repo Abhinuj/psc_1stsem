{
 "cells": [
  {
   "cell_type": "code",
   "execution_count": 1,
   "id": "9da23fc1-4718-45f1-b1f0-5b4e22b1eb0a",
   "metadata": {},
   "outputs": [],
   "source": [
    "#10.Try to give a definition of string center function with and example"
   ]
  },
  {
   "cell_type": "code",
   "execution_count": 5,
   "id": "cca6e050-a9e2-4e0f-9eb5-ae691c36512a",
   "metadata": {},
   "outputs": [],
   "source": [
    "# Definition\n",
    "# String Center Function - The center() method is a string method in Python that is used to align text within a given string length."
   ]
  },
  {
   "cell_type": "code",
   "execution_count": 7,
   "id": "635557d0-4b8c-4250-984b-fa305ade48ef",
   "metadata": {},
   "outputs": [
    {
     "data": {
      "text/plain": [
       "'************************************************************Abhilasha*************************************************************'"
      ]
     },
     "execution_count": 7,
     "metadata": {},
     "output_type": "execute_result"
    }
   ],
   "source": [
    "# Example :\n",
    "b = \"Abhilasha\"\n",
    "b.center(130,\"*\")"
   ]
  },
  {
   "cell_type": "code",
   "execution_count": 8,
   "id": "78282eea-759b-4d12-95a4-3fcf9efd2e99",
   "metadata": {},
   "outputs": [],
   "source": [
    "#11.Write your own definition of compiler and interpretor without copy paste form internet in your own language"
   ]
  },
  {
   "cell_type": "code",
   "execution_count": 10,
   "id": "ee8ac811-e546-4343-8f51-b6190f13e7e1",
   "metadata": {},
   "outputs": [],
   "source": [
    "#Compiler - A compiler translates code from a high - level programming language into machine code before the program runs.\n",
    "#Interpreter - An interpreter translates code written in a high - level programming language into machine code line-by-line as the code runs."
   ]
  },
  {
   "cell_type": "code",
   "execution_count": 11,
   "id": "b7d0565c-80f9-4deb-a494-1b4b4c23ab1d",
   "metadata": {},
   "outputs": [],
   "source": [
    "#12. Python is an interpreted of compiled language give clear ans.\n"
   ]
  },
  {
   "cell_type": "code",
   "execution_count": null,
   "id": "3bacebe0-2bf0-4c26-9f18-f2b749e4ba03",
   "metadata": {},
   "outputs": [],
   "source": [
    "# 12 Python is an interpreted of compiled language give clear ans.\n"
   ]
  }
 ],
 "metadata": {
  "kernelspec": {
   "display_name": "Python 3 (ipykernel)",
   "language": "python",
   "name": "python3"
  },
  "language_info": {
   "codemirror_mode": {
    "name": "ipython",
    "version": 3
   },
   "file_extension": ".py",
   "mimetype": "text/x-python",
   "name": "python",
   "nbconvert_exporter": "python",
   "pygments_lexer": "ipython3",
   "version": "3.12.4"
  }
 },
 "nbformat": 4,
 "nbformat_minor": 5
}
