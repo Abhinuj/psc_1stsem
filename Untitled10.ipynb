{
 "cells": [
  {
   "cell_type": "code",
   "execution_count": 1,
   "id": "b5c54580-7c41-4fee-81b8-e6ec4c3c81e6",
   "metadata": {},
   "outputs": [],
   "source": [
    "name = \" Abhi\""
   ]
  },
  {
   "cell_type": "code",
   "execution_count": 2,
   "id": "8bed1e98-d7a6-4259-8f13-bf801cf9e95e",
   "metadata": {},
   "outputs": [
    {
     "data": {
      "text/plain": [
       "' Abhi'"
      ]
     },
     "execution_count": 2,
     "metadata": {},
     "output_type": "execute_result"
    }
   ],
   "source": [
    "name"
   ]
  },
  {
   "cell_type": "code",
   "execution_count": 5,
   "id": "70175196-c975-42e5-b1ab-8509819fffcb",
   "metadata": {},
   "outputs": [
    {
     "data": {
      "text/plain": [
       "float"
      ]
     },
     "execution_count": 5,
     "metadata": {},
     "output_type": "execute_result"
    }
   ],
   "source": [
    "a = 34.566\n",
    "type(a)"
   ]
  },
  {
   "cell_type": "code",
   "execution_count": 6,
   "id": "134572b9-e129-40bc-8e7d-936f0b36e97c",
   "metadata": {},
   "outputs": [
    {
     "data": {
      "text/plain": [
       "'noitatupmoC gnisU gnivloS melborP gninrael era eW '"
      ]
     },
     "execution_count": 6,
     "metadata": {},
     "output_type": "execute_result"
    }
   ],
   "source": [
    "name = \" We are learning Problem Solving Using Computation\"\n",
    "name[::-1]"
   ]
  },
  {
   "cell_type": "code",
   "execution_count": 12,
   "id": "ffc8550d-d3ac-4111-9913-4b545b58c599",
   "metadata": {},
   "outputs": [
    {
     "data": {
      "text/plain": [
       "'rael era eW'"
      ]
     },
     "execution_count": 12,
     "metadata": {},
     "output_type": "execute_result"
    }
   ],
   "source": [
    "name = \"We are learning Problem Solving Using Computation\"\n",
    "name[10:-50:-1]"
   ]
  },
  {
   "cell_type": "code",
   "execution_count": 13,
   "id": "f1475671-a491-44c8-8adf-561be830ddc0",
   "metadata": {},
   "outputs": [
    {
     "data": {
      "text/plain": [
       "'apCnUnl lrgne'"
      ]
     },
     "execution_count": 13,
     "metadata": {},
     "output_type": "execute_result"
    }
   ],
   "source": [
    "name = \"We are learning Problem Solving Using Computation\"\n",
    "name[-5:5:-3]"
   ]
  },
  {
   "cell_type": "code",
   "execution_count": 14,
   "id": "55605e70-94fa-41a9-a6fe-e6132ac582b7",
   "metadata": {},
   "outputs": [
    {
     "data": {
      "text/plain": [
       "'fARDeeN AHmed'"
      ]
     },
     "execution_count": 14,
     "metadata": {},
     "output_type": "execute_result"
    }
   ],
   "source": [
    "name = \"FardEEn ahMED\"\n",
    "name.swapcase()"
   ]
  },
  {
   "cell_type": "code",
   "execution_count": 17,
   "id": "43b74371-0636-407e-8b52-5f6143f60f39",
   "metadata": {},
   "outputs": [
    {
     "data": {
      "text/plain": [
       "'F@a@r@d@E@E@n@ @a@h@M@E@D@'"
      ]
     },
     "execution_count": 17,
     "metadata": {},
     "output_type": "execute_result"
    }
   ],
   "source": [
    "'@'.join(name)+\"@\""
   ]
  },
  {
   "cell_type": "code",
   "execution_count": 25,
   "id": "5f1e8c1f-bdec-4439-9cf5-f5df5596435a",
   "metadata": {},
   "outputs": [
    {
     "data": {
      "text/plain": [
       "True"
      ]
     },
     "execution_count": 25,
     "metadata": {},
     "output_type": "execute_result"
    }
   ],
   "source": [
    "name1 = \"TanushreeJadhav\"\n",
    "name1.isalpha()"
   ]
  },
  {
   "cell_type": "code",
   "execution_count": 26,
   "id": "95a49467-512e-418d-94c2-6514a7f18382",
   "metadata": {},
   "outputs": [
    {
     "data": {
      "text/plain": [
       "True"
      ]
     },
     "execution_count": 26,
     "metadata": {},
     "output_type": "execute_result"
    }
   ],
   "source": [
    "d = 45454\n",
    "d.is_integer()"
   ]
  },
  {
   "cell_type": "code",
   "execution_count": 29,
   "id": "e0d5412e-7ee0-4380-9185-55423070b2e1",
   "metadata": {},
   "outputs": [
    {
     "data": {
      "text/plain": [
       "True"
      ]
     },
     "execution_count": 29,
     "metadata": {},
     "output_type": "execute_result"
    }
   ],
   "source": [
    "name1.startswith('T')"
   ]
  },
  {
   "cell_type": "code",
   "execution_count": 30,
   "id": "0d89f5d3-9532-4994-986d-6b35cd2878b2",
   "metadata": {},
   "outputs": [
    {
     "data": {
      "text/plain": [
       "'vahdaJeerhsunaT'"
      ]
     },
     "execution_count": 30,
     "metadata": {},
     "output_type": "execute_result"
    }
   ],
   "source": [
    "\"\".join(reversed(name1))"
   ]
  },
  {
   "cell_type": "code",
   "execution_count": null,
   "id": "21be636e-f24c-49d1-90d8-1fb5860135ba",
   "metadata": {},
   "outputs": [],
   "source": [
    "-"
   ]
  }
 ],
 "metadata": {
  "kernelspec": {
   "display_name": "Python 3 (ipykernel)",
   "language": "python",
   "name": "python3"
  },
  "language_info": {
   "codemirror_mode": {
    "name": "ipython",
    "version": 3
   },
   "file_extension": ".py",
   "mimetype": "text/x-python",
   "name": "python",
   "nbconvert_exporter": "python",
   "pygments_lexer": "ipython3",
   "version": "3.12.4"
  }
 },
 "nbformat": 4,
 "nbformat_minor": 5
}
