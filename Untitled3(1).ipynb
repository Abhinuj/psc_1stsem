{
 "cells": [
  {
   "cell_type": "code",
   "execution_count": 1,
   "id": "9da23fc1-4718-45f1-b1f0-5b4e22b1eb0a",
   "metadata": {},
   "outputs": [],
   "source": [
    "#10.Try to give a definition of string center function with and example"
   ]
  },
  {
   "cell_type": "code",
   "execution_count": 5,
   "id": "cca6e050-a9e2-4e0f-9eb5-ae691c36512a",
   "metadata": {},
   "outputs": [],
   "source": [
    "# Definition\n",
    "# String Center Function - The center() method is a string method in Python that is used to align text within a given string length."
   ]
  },
  {
   "cell_type": "code",
   "execution_count": 7,
   "id": "635557d0-4b8c-4250-984b-fa305ade48ef",
   "metadata": {},
   "outputs": [
    {
     "data": {
      "text/plain": [
       "'************************************************************Abhilasha*************************************************************'"
      ]
     },
     "execution_count": 7,
     "metadata": {},
     "output_type": "execute_result"
    }
   ],
   "source": [
    "# Example :\n",
    "b = \"Abhilasha\"\n",
    "b.center(130,\"*\")"
   ]
  },
  {
   "cell_type": "code",
   "execution_count": 8,
   "id": "78282eea-759b-4d12-95a4-3fcf9efd2e99",
   "metadata": {},
   "outputs": [],
   "source": [
    "#11.Write your own definition of compiler and interpretor without copy paste form internet in your own language"
   ]
  },
  {
   "cell_type": "code",
   "execution_count": 10,
   "id": "ee8ac811-e546-4343-8f51-b6190f13e7e1",
   "metadata": {},
   "outputs": [],
   "source": [
    "#Compiler - A compiler translates code from a high - level programming language into machine code before the program runs.\n",
    "#Interpreter - An interpreter translates code written in a high - level programming language into machine code line-by-line as the code runs."
   ]
  },
  {
   "cell_type": "code",
   "execution_count": 11,
   "id": "b7d0565c-80f9-4deb-a494-1b4b4c23ab1d",
   "metadata": {},
   "outputs": [],
   "source": [
    "#12. Python is an interpreted of compiled language give clear ans."
   ]
  },
  {
   "cell_type": "code",
   "execution_count": 12,
   "id": "3bacebe0-2bf0-4c26-9f18-f2b749e4ba03",
   "metadata": {},
   "outputs": [],
   "source": [
    "#  Python code is executed by an interpreter like CPython which reads and executes the code line by line at runtime. This is why Python \n",
    "#  is considered an interpreted language.\n"
   ]
  },
  {
   "cell_type": "code",
   "execution_count": 13,
   "id": "a91c2846-008c-4fba-bb02-1b4d416cc317",
   "metadata": {},
   "outputs": [],
   "source": [
    "#13. Try to write a usecase of python with your understanding."
   ]
  },
  {
   "cell_type": "code",
   "execution_count": null,
   "id": "30bd8ba1-12ca-4338-87c7-ee373e21289d",
   "metadata": {},
   "outputs": [],
   "source": [
    "# There are many usecases of python such as:\n",
    "\n",
    "# 1. Pyhton is used in Cybersecurity.   \n",
    "# 2. Python is used in Web development.   ( Django, Flask for building websites.)\n",
    "# 3. Python is used in Data analysis and mashin learning.   (Pandas, TensorFlow for data analysis and AI.)\n",
    "# 4. Python is used in Artifitial intelligence (Generative AI).\n",
    "# 5. Python is used in Internet Of Things (IOT).\n",
    "# 6. Python is used in Cloud computing.   ( Automating cloud services)\n",
    "# 7. Python is used in Game development.   (Pygame for game prototyping.)\n",
    "# 8. Python is used in Blockchain development."
   ]
  }
 ],
 "metadata": {
  "kernelspec": {
   "display_name": "Python 3 (ipykernel)",
   "language": "python",
   "name": "python3"
  },
  "language_info": {
   "codemirror_mode": {
    "name": "ipython",
    "version": 3
   },
   "file_extension": ".py",
   "mimetype": "text/x-python",
   "name": "python",
   "nbconvert_exporter": "python",
   "pygments_lexer": "ipython3",
   "version": "3.12.4"
  }
 },
 "nbformat": 4,
 "nbformat_minor": 5
}
